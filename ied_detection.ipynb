{
  "nbformat": 4,
  "nbformat_minor": 0,
  "metadata": {
    "colab": {
      "provenance": [],
      "gpuType": "T4"
    },
    "kernelspec": {
      "name": "python3",
      "display_name": "Python 3"
    },
    "language_info": {
      "name": "python"
    },
    "accelerator": "GPU"
  },
  "cells": [
    {
      "cell_type": "markdown",
      "source": [
        "# Setup"
      ],
      "metadata": {
        "id": "5wUwG4v7lceH"
      }
    },
    {
      "cell_type": "code",
      "source": [
        "!git clone https://github.com/Rdtskn/ELE402_IED_Detection\n",
        "%cd ELE402_IED_Detection/\n",
        "!git submodule update --init\n",
        "!pip install -qr /content/ELE402_IED_Detection/yolov5/requirements.txt"
      ],
      "metadata": {
        "id": "LsRCIbN4OT8y"
      },
      "execution_count": null,
      "outputs": []
    },
    {
      "cell_type": "code",
      "source": [
        "import torch\n",
        "import os\n",
        "from IPython.display import Image, clear_output"
      ],
      "metadata": {
        "id": "hJB4ygUxqnxW"
      },
      "execution_count": 2,
      "outputs": []
    },
    {
      "cell_type": "code",
      "source": [
        "# Print GPU specs\n",
        "print(f\"Setup complete. Using torch {torch.__version__} ({torch.cuda.get_device_properties(0).name if torch.cuda.is_available() else 'CPU'})\")"
      ],
      "metadata": {
        "colab": {
          "base_uri": "https://localhost:8080/"
        },
        "id": "lCBvO5pgqzQo",
        "outputId": "3a200b5c-8dc0-4ac9-c860-487e12afbc1c"
      },
      "execution_count": null,
      "outputs": [
        {
          "output_type": "stream",
          "name": "stdout",
          "text": [
            "Setup complete. Using torch 2.0.1+cu118 (Tesla T4)\n"
          ]
        }
      ]
    },
    {
      "cell_type": "markdown",
      "source": [
        "## Training"
      ],
      "metadata": {
        "id": "81bT1Oy0lf6Q"
      }
    },
    {
      "cell_type": "code",
      "source": [
        "!python /content/ELE402_IED_Detection/yolov5/train.py --hyp /content/ELE402_IED_Detection/hyp.custom.yaml --img 640 --batch 32 --epochs 5 --data \"/content/ELE402_IED_Detection/datasets/GPR-3/data.yaml\" --weights /yolov5/yolov5s.pt --cache"
      ],
      "metadata": {
        "id": "Y5ON2zwsrkXv"
      },
      "execution_count": null,
      "outputs": []
    },
    {
      "cell_type": "markdown",
      "source": [
        "## Detection"
      ],
      "metadata": {
        "id": "FQsT6ewH6NUA"
      }
    },
    {
      "cell_type": "code",
      "source": [
        "# Detect entire dataset\n",
        "!python /content/ELE402_IED_Detection/yolov5/detect.py --weights /content/ELE402_IED_Detection/yolov5/runs/train/exp/weights/best.pt --img 640 --conf 0.5 --source /content/ELE402_IED_Detection/all_images"
      ],
      "metadata": {
        "id": "n7qKKhnu_DVo"
      },
      "execution_count": null,
      "outputs": []
    },
    {
      "cell_type": "code",
      "source": [
        "# List random test results for quick checking\n",
        "import os\n",
        "import random\n",
        "from PIL import Image\n",
        "\n",
        "def display_random_image(folder_path, image_number):\n",
        "    # Get a list of image file names in the folder\n",
        "    image_files = [file for file in os.listdir(folder_path) if file.endswith(('.jpg', '.jpeg', '.png'))]\n",
        "\n",
        "    if len(image_files) == 0:\n",
        "        print(\"No image files found in the folder.\")\n",
        "        return\n",
        "\n",
        "    # Select a random image file\n",
        "    for i in range (1, image_number):\n",
        "      random_image = random.choice(image_files)\n",
        "      image_path = os.path.join(folder_path, random_image)\n",
        "\n",
        "    # Open and display the image\n",
        "      image = Image.open(image_path)\n",
        "      image.show()\n",
        "      print('\\n')\n",
        "\n",
        "# Provide the path to the folder containing the images, update after each new detection run\n",
        "folder_path = '/content/ELE402_IED_Detection/yolov5/runs/detect/exp2'\n",
        "image_number = 5\n",
        "display_random_image(folder_path, image_number)"
      ],
      "metadata": {
        "id": "BgP6EjbZqyN2"
      },
      "execution_count": null,
      "outputs": []
    },
    {
      "cell_type": "markdown",
      "source": [
        "# Download Data (for Colab)"
      ],
      "metadata": {
        "id": "ESF03Awolmbu"
      }
    },
    {
      "cell_type": "code",
      "source": [
        "# Zip training and test results\n",
        "from google.colab import files\n",
        "!zip -r train.zip /content/ELE402_IED_Detection/yolov5/runs/train/exp/\n",
        "!zip -r detect.zip /content/ELE402_IED_Detection/yolov5/runs/detect/exp/"
      ],
      "metadata": {
        "id": "h7ARQiK5nKkg"
      },
      "execution_count": null,
      "outputs": []
    },
    {
      "cell_type": "code",
      "source": [
        "# Download test results\n",
        "files.download(\"/content/ELE402_IED_Detection/train.zip\")\n",
        "files.download(\"/content/ELE402_IED_Detection/detect.zip\")"
      ],
      "metadata": {
        "id": "Xic0RVsg0IpA"
      },
      "execution_count": null,
      "outputs": []
    }
  ]
}